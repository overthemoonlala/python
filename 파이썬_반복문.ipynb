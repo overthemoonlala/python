{
  "nbformat": 4,
  "nbformat_minor": 0,
  "metadata": {
    "colab": {
      "provenance": [],
      "authorship_tag": "ABX9TyPfR19ObmmEBxI4GwJ2NTEe",
      "include_colab_link": true
    },
    "kernelspec": {
      "name": "python3",
      "display_name": "Python 3"
    },
    "language_info": {
      "name": "python"
    }
  },
  "cells": [
    {
      "cell_type": "markdown",
      "metadata": {
        "id": "view-in-github",
        "colab_type": "text"
      },
      "source": [
        "<a href=\"https://colab.research.google.com/github/overthemoonlala/python/blob/main/%ED%8C%8C%EC%9D%B4%EC%8D%AC_%EB%B0%98%EB%B3%B5%EB%AC%B8.ipynb\" target=\"_parent\"><img src=\"https://colab.research.google.com/assets/colab-badge.svg\" alt=\"Open In Colab\"/></a>"
      ]
    },
    {
      "cell_type": "markdown",
      "source": [
        "# 반복문"
      ],
      "metadata": {
        "id": "RHfUxvd3MsLn"
      }
    },
    {
      "cell_type": "code",
      "execution_count": null,
      "metadata": {
        "id": "C5VuPiF8MpfY",
        "colab": {
          "base_uri": "https://localhost:8080/"
        },
        "outputId": "de76109c-24f6-46d4-cda6-0e850dbcb1ab"
      },
      "outputs": [
        {
          "output_type": "stream",
          "name": "stdout",
          "text": [
            "=\n",
            "=\n",
            "=\n",
            "=\n",
            "=\n",
            "=\n",
            "=\n",
            "=\n",
            "=\n",
            "=\n"
          ]
        }
      ],
      "source": [
        "for i in range(10):\n",
        "  print('=')"
      ]
    },
    {
      "cell_type": "code",
      "source": [
        "for i in range(10): #0부터 시작 시작\n",
        "  print(i)"
      ],
      "metadata": {
        "colab": {
          "base_uri": "https://localhost:8080/"
        },
        "id": "ptIxvQrnrqt3",
        "outputId": "03859753-be76-4b6e-d343-c732c8678485"
      },
      "execution_count": null,
      "outputs": [
        {
          "output_type": "stream",
          "name": "stdout",
          "text": [
            "0\n",
            "1\n",
            "2\n",
            "3\n",
            "4\n",
            "5\n",
            "6\n",
            "7\n",
            "8\n",
            "9\n"
          ]
        }
      ]
    },
    {
      "cell_type": "code",
      "source": [
        "for i in range(10):\n",
        "  print(\"=\" + str(i+1) + \"=\") #형변환해주기!!!!"
      ],
      "metadata": {
        "colab": {
          "base_uri": "https://localhost:8080/"
        },
        "id": "V3_FmVJHrqwV",
        "outputId": "b9c2eee1-7074-4628-a37b-3ccab80b6494"
      },
      "execution_count": null,
      "outputs": [
        {
          "output_type": "stream",
          "name": "stdout",
          "text": [
            "=1=\n",
            "=2=\n",
            "=3=\n",
            "=4=\n",
            "=5=\n",
            "=6=\n",
            "=7=\n",
            "=8=\n",
            "=9=\n",
            "=10=\n"
          ]
        }
      ]
    },
    {
      "cell_type": "code",
      "source": [
        "#별 출력하기\n",
        "for i in range(10):\n",
        "  print('*' * (i + 1))"
      ],
      "metadata": {
        "colab": {
          "base_uri": "https://localhost:8080/"
        },
        "id": "GFcMS5XPrqyy",
        "outputId": "bab14cc0-9532-44b8-8af4-22cc26b9d6bc"
      },
      "execution_count": null,
      "outputs": [
        {
          "output_type": "stream",
          "name": "stdout",
          "text": [
            "*\n",
            "**\n",
            "***\n",
            "****\n",
            "*****\n",
            "******\n",
            "*******\n",
            "********\n",
            "*********\n",
            "**********\n"
          ]
        }
      ]
    },
    {
      "cell_type": "code",
      "source": [
        "marks = [90, 24,  59, 100]\n",
        "\n",
        "number = 0\n",
        "for mark in marks:\n",
        "  number = number + 1\n",
        "  if mark >= 60:\n",
        "    print('%d번 학생은 합격입니다' % number)\n",
        "  else:\n",
        "    print('%d번 학생은 불합격입니다.' % number)"
      ],
      "metadata": {
        "colab": {
          "base_uri": "https://localhost:8080/"
        },
        "id": "0AXWHyWArq1a",
        "outputId": "3f01c39f-a29f-431d-fe30-c14fe29fb044"
      },
      "execution_count": null,
      "outputs": [
        {
          "output_type": "stream",
          "name": "stdout",
          "text": [
            "1번 학생은 합격입니다\n",
            "2번 학생은 불합격입니다.\n",
            "3번 학생은 불합격입니다.\n",
            "4번 학생은 합격입니다\n"
          ]
        }
      ]
    },
    {
      "cell_type": "code",
      "source": [
        "#구구단!\n",
        "for i in range(2,10):\n",
        "  for j in range(1,10):\n",
        "    print(i*j, end = '')\n",
        "  print('')"
      ],
      "metadata": {
        "colab": {
          "base_uri": "https://localhost:8080/"
        },
        "id": "Aon08F8prq4H",
        "outputId": "02514554-cf2a-4489-a5c4-c6cef6b84830"
      },
      "execution_count": null,
      "outputs": [
        {
          "output_type": "stream",
          "name": "stdout",
          "text": [
            "24681012141618\n",
            "369121518212427\n",
            "4812162024283236\n",
            "51015202530354045\n",
            "61218243036424854\n",
            "71421283542495663\n",
            "81624324048566472\n",
            "91827364554637281\n"
          ]
        }
      ]
    },
    {
      "cell_type": "code",
      "source": [
        "num = 1\n",
        "while num <= 10:\n",
        "  print(num)\n",
        "  num = num + 1"
      ],
      "metadata": {
        "colab": {
          "base_uri": "https://localhost:8080/"
        },
        "id": "j-5jDsWJrq63",
        "outputId": "38ebbe08-bba0-46fa-d61f-3b14e203093f"
      },
      "execution_count": null,
      "outputs": [
        {
          "output_type": "stream",
          "name": "stdout",
          "text": [
            "1\n",
            "2\n",
            "3\n",
            "4\n",
            "5\n",
            "6\n",
            "7\n",
            "8\n",
            "9\n",
            "10\n"
          ]
        }
      ]
    },
    {
      "cell_type": "code",
      "source": [
        "print('안녕', end='!')\n",
        "print('홍길동')"
      ],
      "metadata": {
        "id": "XIlGLygQrq9s",
        "colab": {
          "base_uri": "https://localhost:8080/"
        },
        "outputId": "5b309a46-c48b-4a32-811f-36513351005f"
      },
      "execution_count": 1,
      "outputs": [
        {
          "output_type": "stream",
          "name": "stdout",
          "text": [
            "안녕!홍길동\n"
          ]
        }
      ]
    },
    {
      "cell_type": "code",
      "source": [
        "# 90이상 A, 80이상 B, 60이상 D, 미만은 F\n",
        "\n",
        "score = int(input('점수를 입력하세요'))\n",
        "\n",
        "if score >= 90:\n",
        "  print('A학점입니다.')\n",
        "else:\n",
        "  if score >= 80:\n",
        "    print('B학점입니다.')\n",
        "  else:\n",
        "    if score >= 60:\n",
        "      print('D학점입니다.')\n",
        "    else:\n",
        "      print('F학점입니다.')\n",
        "\n"
      ],
      "metadata": {
        "id": "-KIgT4MbrrAE",
        "colab": {
          "base_uri": "https://localhost:8080/"
        },
        "outputId": "3b4c0704-872c-439c-e266-a8813ac8e6c4"
      },
      "execution_count": 4,
      "outputs": [
        {
          "output_type": "stream",
          "name": "stdout",
          "text": [
            "점수를 입력하세요94\n",
            "A학점입니다.\n"
          ]
        }
      ]
    },
    {
      "cell_type": "code",
      "source": [
        "score = int(input('점수를 입력하세요'))\n",
        "\n",
        "if score >= 90:\n",
        "  print('A학점')\n",
        "elif score >= 80:\n",
        "  print('B학점')\n",
        "elif score >= 60:\n",
        "  print('D학점')\n",
        "else:\n",
        "  print('F학점')"
      ],
      "metadata": {
        "id": "Fjcd9o64rrDD",
        "colab": {
          "base_uri": "https://localhost:8080/"
        },
        "outputId": "224c709c-1c26-45b3-8f1b-d9a0119a826b"
      },
      "execution_count": 7,
      "outputs": [
        {
          "output_type": "stream",
          "name": "stdout",
          "text": [
            "점수를 입력하세요788\n",
            "A학점\n"
          ]
        }
      ]
    },
    {
      "cell_type": "code",
      "source": [
        "# 점수가 60이상이면 pass 60 미만이면 fail 출력\n",
        "\n",
        "score = int(input('점수를 입력하세요'))\n",
        "if score >= 60:\n",
        "  print('pass')\n",
        "else:\n",
        "  print('fail')"
      ],
      "metadata": {
        "id": "DI5YmNm7rrF_",
        "colab": {
          "base_uri": "https://localhost:8080/"
        },
        "outputId": "89365252-356b-4729-d745-4a235403ad91"
      },
      "execution_count": 8,
      "outputs": [
        {
          "output_type": "stream",
          "name": "stdout",
          "text": [
            "점수를 입력하세요55\n",
            "fail\n"
          ]
        }
      ]
    },
    {
      "cell_type": "code",
      "source": [
        "#간단한 조건식\n",
        "\n",
        "score = 65\n",
        "print(score, '점수는', 'pass' if score >= 60 else 'fail')"
      ],
      "metadata": {
        "id": "pom2bjpMrrH0",
        "colab": {
          "base_uri": "https://localhost:8080/"
        },
        "outputId": "e3911304-a876-4e21-f01b-b48de804dc63"
      },
      "execution_count": 9,
      "outputs": [
        {
          "output_type": "stream",
          "name": "stdout",
          "text": [
            "65 점수는 pass\n"
          ]
        }
      ]
    },
    {
      "cell_type": "code",
      "source": [
        "# 반복문\n",
        "num = 100\n",
        "sum = 0\n",
        "\n",
        "for i in range(1, num + 1): #부터 101까지\n",
        "  if(i%2==0):               #짝수라면\n",
        "    sum += i                # 2,4,......100\n",
        "\n",
        "print('1부터 %d까지의 짝수의 합 %d' % (num, sum))"
      ],
      "metadata": {
        "id": "3pUxtsQirrJ9",
        "colab": {
          "base_uri": "https://localhost:8080/"
        },
        "outputId": "5c91f3b0-79db-40a2-d5a4-2b9bbd9fb0bb"
      },
      "execution_count": 16,
      "outputs": [
        {
          "output_type": "stream",
          "name": "stdout",
          "text": [
            "1부터 100까지의 짝수의 합 2550\n"
          ]
        }
      ]
    },
    {
      "cell_type": "code",
      "source": [
        "# 문제) 1부터 100까지의 홀수의 합 생성\n",
        "\n",
        "num=100\n",
        "sum=0\n",
        "\n",
        "for i in range(1, num + 1): #1부터 100까지\n",
        "  if (i%2==1): #나머지가 1\n",
        "    sum += i\n",
        "\n",
        "print('1부터 %d까지의 홀수의 합은 %d입니다.' % (num, sum))\n",
        "\n",
        "\n"
      ],
      "metadata": {
        "colab": {
          "base_uri": "https://localhost:8080/"
        },
        "id": "Huxn9V5yyPVO",
        "outputId": "c5818618-abbd-4765-e2fd-4fd036d3edb9"
      },
      "execution_count": 18,
      "outputs": [
        {
          "output_type": "stream",
          "name": "stdout",
          "text": [
            "1부터 100까지의 홀수의 합은 2500입니다.\n"
          ]
        }
      ]
    },
    {
      "cell_type": "markdown",
      "source": [
        "**문제) 1부터 5까지의 숫자 출력하기**\n"
      ],
      "metadata": {
        "id": "Wtykas4G0sXH"
      }
    },
    {
      "cell_type": "code",
      "source": [
        "#방법1\n",
        "for i in range(1,6):\n",
        "  print(i)"
      ],
      "metadata": {
        "colab": {
          "base_uri": "https://localhost:8080/"
        },
        "id": "mAN-_OctyPX_",
        "outputId": "bf4840a8-6f66-49c5-f484-d3f1637b5bdd"
      },
      "execution_count": 21,
      "outputs": [
        {
          "output_type": "stream",
          "name": "stdout",
          "text": [
            "1\n",
            "2\n",
            "3\n",
            "4\n",
            "5\n"
          ]
        }
      ]
    },
    {
      "cell_type": "markdown",
      "source": [
        "\n",
        "**문제) 입력 받은 수 만큼 별 생성**"
      ],
      "metadata": {
        "id": "aeG0Njg31Y8c"
      }
    },
    {
      "cell_type": "code",
      "source": [
        "num = int(input('숫자를 입력하세용'))\n",
        "\n",
        "for i in range(num + 1):\n",
        "  print(i*'*')\n"
      ],
      "metadata": {
        "colab": {
          "base_uri": "https://localhost:8080/"
        },
        "id": "z-Z6KPAQyPaJ",
        "outputId": "fc2f1c14-2c6c-4c37-ba4f-dbe3b1059268"
      },
      "execution_count": 23,
      "outputs": [
        {
          "output_type": "stream",
          "name": "stdout",
          "text": [
            "숫자를 입력하세용4\n",
            "\n",
            "*\n",
            "**\n",
            "***\n",
            "****\n"
          ]
        }
      ]
    },
    {
      "cell_type": "code",
      "source": [
        "#while을 이용하여 1부터 5까지 출력해보기\n",
        "\n",
        "num = 1\n",
        "while num <= 5:\n",
        "  print(num, end=\"\") #붙여서 출력\n",
        "  num += 1"
      ],
      "metadata": {
        "colab": {
          "base_uri": "https://localhost:8080/"
        },
        "id": "uW93bqQPyPcQ",
        "outputId": "05645458-b76a-4a27-a281-d895851ebd38"
      },
      "execution_count": 26,
      "outputs": [
        {
          "output_type": "stream",
          "name": "stdout",
          "text": [
            "12345"
          ]
        }
      ]
    },
    {
      "cell_type": "markdown",
      "source": [
        "#난수생성하기"
      ],
      "metadata": {
        "id": "-a9dCm7A3U3j"
      }
    },
    {
      "cell_type": "code",
      "source": [
        "import random\n",
        "rnum = random.randrange(1,100) # 1~99사이의 임의의수!\n",
        "print(rnum)"
      ],
      "metadata": {
        "colab": {
          "base_uri": "https://localhost:8080/"
        },
        "id": "DK_eyYGl2AsF",
        "outputId": "480e8649-7e86-45b4-fc6c-47209b8ac196"
      },
      "execution_count": 28,
      "outputs": [
        {
          "output_type": "stream",
          "name": "stdout",
          "text": [
            "29\n"
          ]
        }
      ]
    },
    {
      "cell_type": "markdown",
      "source": [
        "**1~45사이의 숫자 6개 난수 출력**\n",
        "\n",
        "논리1~45 범위, 2. 반복 6번\n"
      ],
      "metadata": {
        "id": "pON_11IX4qdB"
      }
    },
    {
      "cell_type": "code",
      "source": [
        "# 방법1\n",
        "import random\n",
        "for i in range(0,6):\n",
        "  i = random.randrange(1,46)\n",
        "  print('출력된 6개의 난수는' , i ,'입니다')"
      ],
      "metadata": {
        "colab": {
          "base_uri": "https://localhost:8080/"
        },
        "id": "AroyjIHv2AvS",
        "outputId": "5dffd0cd-a1c0-4226-b1d6-8225b99ea76e"
      },
      "execution_count": 41,
      "outputs": [
        {
          "output_type": "stream",
          "name": "stdout",
          "text": [
            "출력된 6개의 난수는 42 입니다\n",
            "출력된 6개의 난수는 35 입니다\n",
            "출력된 6개의 난수는 26 입니다\n",
            "출력된 6개의 난수는 7 입니다\n",
            "출력된 6개의 난수는 45 입니다\n",
            "출력된 6개의 난수는 3 입니다\n"
          ]
        }
      ]
    },
    {
      "cell_type": "code",
      "source": [
        "for i in range(1,7):\n",
        "  print(random.randrange(1,46), end = \",\")"
      ],
      "metadata": {
        "colab": {
          "base_uri": "https://localhost:8080/"
        },
        "id": "0j8ujeli2Ax7",
        "outputId": "31e97895-d812-417e-cedf-1bad40d98c0c"
      },
      "execution_count": 39,
      "outputs": [
        {
          "output_type": "stream",
          "name": "stdout",
          "text": [
            "26,18,37,37,7,6,"
          ]
        }
      ]
    },
    {
      "cell_type": "markdown",
      "source": [
        "컴퓨터가 1부터 99사이의 임의의 수를 저장하고,\n",
        "\n",
        "숫자를 입력받아서 컴퓨터가 저장한 수를 맞추기.\n",
        "\n",
        "컴퓨터는 입력한 숫자가 정답과 비교하여 큰수,작은수 인지 출력.\n",
        "\n",
        "정답 입력시 입력한 횟수를 출력하기.\n",
        "\n",
        "  1. 난수 생성.\n",
        "  2. 정답을 맞추는 동안 계속 입력 받기. => while True :"
      ],
      "metadata": {
        "id": "oBPADL4i5dOp"
      }
    },
    {
      "cell_type": "code",
      "source": [
        "import random\n",
        "\n",
        "#1부터 99까지 범위 설정\n",
        "rnum = random.randrange(1,100)\n",
        "cnt = 0\n",
        "\n",
        "while True:\n",
        "  num = int(input('수를 입력하세요'))\n",
        "  cnt += 1\n",
        "  if rnum > num:\n",
        "    print( num, '보다는 큰 수 입니다')\n",
        "  elif rnum < num:\n",
        "    print( num, '보다는 작은 수 입니다.')\n",
        "  else:\n",
        "    print('정답입니다')\n",
        "    print(cnt, '만에 답을 맞췄습니다!')\n",
        "    break\n",
        "\n"
      ],
      "metadata": {
        "colab": {
          "base_uri": "https://localhost:8080/"
        },
        "id": "YMmImtWcyPtp",
        "outputId": "24895114-21c9-4302-9c34-c4d5ef9d031a"
      },
      "execution_count": 46,
      "outputs": [
        {
          "output_type": "stream",
          "name": "stdout",
          "text": [
            "수를 입력하세요78\n",
            "78 보다는 작은 수 입니다.\n",
            "수를 입력하세요50\n",
            "50 보다는 큰 수 입니다\n",
            "수를 입력하세요54\n",
            "54 보다는 큰 수 입니다\n",
            "수를 입력하세요58\n",
            "58 보다는 큰 수 입니다\n",
            "수를 입력하세요6\n",
            "6 보다는 큰 수 입니다\n",
            "수를 입력하세요64\n",
            "64 보다는 큰 수 입니다\n",
            "수를 입력하세요70\n",
            "70 보다는 작은 수 입니다.\n",
            "수를 입력하세요68\n",
            "68 보다는 작은 수 입니다.\n",
            "수를 입력하세요67\n",
            "67 보다는 작은 수 입니다.\n",
            "수를 입력하세요66\n",
            "정답입니다\n",
            "10 만에 답을 맞췄습니다!\n"
          ]
        }
      ]
    },
    {
      "cell_type": "markdown",
      "source": [
        "# 중첩 반복문"
      ],
      "metadata": {
        "id": "bz0uS1rUAG7S"
      }
    },
    {
      "cell_type": "markdown",
      "source": [
        "\n",
        "- '%5d'에서 정수형 서식 문자 앞에 붙는 숫자는 오른쪽 정렬을 위한 숫자입니다. 즉 5개의 칸을 만들어 놓고 오른쪽으로 정렬하여 출력 하라는 의미\n",
        "\n",
        "- %2d 에 있는 2 의 의미는 빈칸 2개를 의미"
      ],
      "metadata": {
        "id": "B2cTi6J1BGFq"
      }
    },
    {
      "cell_type": "code",
      "source": [
        "i, j = 0,0\n",
        "for i in range (2,10):\n",
        "    print(\"%5d단\" % i) #5칸 만들고 오른쪽 정렬\n",
        "    for j in range(2,10):\n",
        "        print(\"%2d X %2d = %3d\" % (i,j,(i*j)))\n",
        "    print()"
      ],
      "metadata": {
        "id": "8_6G5djcrrMl",
        "colab": {
          "base_uri": "https://localhost:8080/"
        },
        "outputId": "3c422aee-c07b-42ae-d95c-94f59f7ed124"
      },
      "execution_count": 47,
      "outputs": [
        {
          "output_type": "stream",
          "name": "stdout",
          "text": [
            "    2단\n",
            " 2 X  2 =   4\n",
            " 2 X  3 =   6\n",
            " 2 X  4 =   8\n",
            " 2 X  5 =  10\n",
            " 2 X  6 =  12\n",
            " 2 X  7 =  14\n",
            " 2 X  8 =  16\n",
            " 2 X  9 =  18\n",
            "\n",
            "    3단\n",
            " 3 X  2 =   6\n",
            " 3 X  3 =   9\n",
            " 3 X  4 =  12\n",
            " 3 X  5 =  15\n",
            " 3 X  6 =  18\n",
            " 3 X  7 =  21\n",
            " 3 X  8 =  24\n",
            " 3 X  9 =  27\n",
            "\n",
            "    4단\n",
            " 4 X  2 =   8\n",
            " 4 X  3 =  12\n",
            " 4 X  4 =  16\n",
            " 4 X  5 =  20\n",
            " 4 X  6 =  24\n",
            " 4 X  7 =  28\n",
            " 4 X  8 =  32\n",
            " 4 X  9 =  36\n",
            "\n",
            "    5단\n",
            " 5 X  2 =  10\n",
            " 5 X  3 =  15\n",
            " 5 X  4 =  20\n",
            " 5 X  5 =  25\n",
            " 5 X  6 =  30\n",
            " 5 X  7 =  35\n",
            " 5 X  8 =  40\n",
            " 5 X  9 =  45\n",
            "\n",
            "    6단\n",
            " 6 X  2 =  12\n",
            " 6 X  3 =  18\n",
            " 6 X  4 =  24\n",
            " 6 X  5 =  30\n",
            " 6 X  6 =  36\n",
            " 6 X  7 =  42\n",
            " 6 X  8 =  48\n",
            " 6 X  9 =  54\n",
            "\n",
            "    7단\n",
            " 7 X  2 =  14\n",
            " 7 X  3 =  21\n",
            " 7 X  4 =  28\n",
            " 7 X  5 =  35\n",
            " 7 X  6 =  42\n",
            " 7 X  7 =  49\n",
            " 7 X  8 =  56\n",
            " 7 X  9 =  63\n",
            "\n",
            "    8단\n",
            " 8 X  2 =  16\n",
            " 8 X  3 =  24\n",
            " 8 X  4 =  32\n",
            " 8 X  5 =  40\n",
            " 8 X  6 =  48\n",
            " 8 X  7 =  56\n",
            " 8 X  8 =  64\n",
            " 8 X  9 =  72\n",
            "\n",
            "    9단\n",
            " 9 X  2 =  18\n",
            " 9 X  3 =  27\n",
            " 9 X  4 =  36\n",
            " 9 X  5 =  45\n",
            " 9 X  6 =  54\n",
            " 9 X  7 =  63\n",
            " 9 X  8 =  72\n",
            " 9 X  9 =  81\n",
            "\n"
          ]
        }
      ]
    },
    {
      "cell_type": "code",
      "source": [
        "'''\n",
        "역직각 삼각형 출력하기\n",
        "*****\n",
        "****\n",
        "***\n",
        "**\n",
        "*\n",
        "'''\n",
        "\n",
        "h = int(input('높이를 입력하세용'))\n",
        "\n",
        "for i in range(h,0,-1): #range 범위로 갖고놀기, 역순\n",
        "  print(i*'*')\n"
      ],
      "metadata": {
        "colab": {
          "base_uri": "https://localhost:8080/"
        },
        "id": "LyFTmDLh_4vL",
        "outputId": "cf7d87ec-2194-491f-a835-c8bd64cf22f7"
      },
      "execution_count": 52,
      "outputs": [
        {
          "output_type": "stream",
          "name": "stdout",
          "text": [
            "높이를 입력하세용7\n",
            "*******\n",
            "******\n",
            "*****\n",
            "****\n",
            "***\n",
            "**\n",
            "*\n"
          ]
        }
      ]
    },
    {
      "cell_type": "code",
      "source": [
        "'''\n",
        "3. 역직각 삼각형 출력하기\n",
        "*****  * 5개\n",
        " ****  공백(5-4)1개, * 4개\n",
        "  ***  공백(5-3)2개, * 3개\n",
        "   **  공백(5-3)3개, * 2개\n",
        "    *  공백(5-1)4개, * 1개\n",
        " h=5\n",
        "'''\n",
        "\n",
        "for i in range(h,0,-1):\n",
        "  print(\" \" * (h-i), end = \"\") #공백설정\n",
        "  print(i * '*')"
      ],
      "metadata": {
        "colab": {
          "base_uri": "https://localhost:8080/"
        },
        "id": "lyxTf6tI_4xp",
        "outputId": "1f495775-1753-4f6a-b470-9acc9286d34e"
      },
      "execution_count": 65,
      "outputs": [
        {
          "output_type": "stream",
          "name": "stdout",
          "text": [
            "*******\n",
            " ******\n",
            "  *****\n",
            "   ****\n",
            "    ***\n",
            "     **\n",
            "      *\n"
          ]
        }
      ]
    },
    {
      "cell_type": "code",
      "source": [
        "'''\n",
        "1. 삼각형의 높이를 입력받은 후 삼각형을 출력하는 프로그램을 작성\n",
        "\n",
        "[결과]\n",
        "이등변 삼각형의 높이를 입력하세요 : 5\n",
        "    *     공백: 4=5-1  *: 1 = 1*2-1\n",
        "   ***    공백: 3=5-2  *: 3 = 2*2-1\n",
        "  *****   공백: 2=5-1  *: 5 = 3*2-1\n",
        " *******\n",
        "*********\n",
        "'''\n",
        "\n",
        "h=int(input(\"높이를 입력하세요:\"))\n",
        "for i in range(1,h+1) : #i=1,2,3,4,5, ... ,h\n",
        "    print(\" \"*(h-i),end=\"\") #h=h-1, h-2, h-3,....h-h\n",
        "    print(\"*\"*(i*2-1)) #???나 이거 이해 안감!\n"
      ],
      "metadata": {
        "id": "hB3kN4Gf_4zq"
      },
      "execution_count": null,
      "outputs": []
    },
    {
      "cell_type": "code",
      "source": [
        "\n",
        "'''\n",
        "2. 년도를 입력받아 윤년인지 평년인지 출력하기.\n",
        "윤년은 4로 나누어 떨어지고, 100 나누어 떨어지는 연도는 제외한다., 400으로 나누어 떨어지면 윤년.\n",
        "그외는 평년\n",
        "\n",
        "년도를 입력하세요 : 2000\n",
        "2000년은 윤년입니다.\n",
        "\n",
        "년도를 입력하세요 : 2020\n",
        "2020년은 윤년입니다.\n",
        "\n",
        "년도를 입력하세요 : 2022\n",
        "2022년은 평년입니다.\n",
        "\n",
        "년도를 입력하세요 : 2100\n",
        "2100년은 평년입니다.\n",
        "'''\n",
        "\n",
        "year = int(input('년도를 입력하십시오'))\n",
        "\n",
        "if (year%4 == 0 and year % 100 != 0) or year % 400 == 0:\n",
        "    print('윤년입니다.')\n",
        "else:\n",
        "  print('평년입니다')\n",
        "\n"
      ],
      "metadata": {
        "colab": {
          "base_uri": "https://localhost:8080/"
        },
        "id": "EcqGPTz2_41v",
        "outputId": "5027647e-dc2b-4ab6-c785-4c5386567bc1"
      },
      "execution_count": 66,
      "outputs": [
        {
          "output_type": "stream",
          "name": "stdout",
          "text": [
            "년도를 입력하십시오2020\n",
            "윤년입니다.\n"
          ]
        }
      ]
    },
    {
      "cell_type": "code",
      "source": [
        "\n",
        "'''\n",
        "3. 1 부터 1000 까지의 홀수의 합계 계산시 합이 최초로 1000이 넘는 숫자는\n",
        "구하는 프로그램을 작성해 보자.\n",
        "\n",
        "[예시]\n",
        "1부터 20까지 홀수의 합계 계산시 처음으로 10이 넘는 숫자를 출력하기\n",
        "7\n",
        "1+3+5+7+9+ 11\n",
        "'''\n",
        "\n",
        "hap=0\n",
        "cnt=0\n",
        "\n",
        "for i in range(1, 1000 + 1):\n",
        "  if i % 2 == 1:\n",
        "    hap += i\n",
        "    cnt = cnt + 1\n",
        "    if hap>1000:\n",
        "      print(cnt, '까지의 합은', hap, '입니다')\n",
        "      break\n",
        "\n"
      ],
      "metadata": {
        "colab": {
          "base_uri": "https://localhost:8080/"
        },
        "id": "uOO5zAxr_44F",
        "outputId": "4602bb83-4e3a-4376-c0e0-10e0d661b81d"
      },
      "execution_count": 76,
      "outputs": [
        {
          "output_type": "stream",
          "name": "stdout",
          "text": [
            "32 까지의 합은 1024 입니다\n"
          ]
        }
      ]
    },
    {
      "cell_type": "code",
      "source": [
        "'''\n",
        "5. 금액을 입력받아 동전(500,100,50,10,1)으로 바꿔 주는 프로그램 작성하기\n",
        "   동전의 갯수를 최소개로한 각각의 동전의 갯수를 구하는 프로그램 작성하기\n",
        "\n",
        "금액을 입력하세요: 3750\n",
        "500원동전 : 7개\n",
        "100원동전 : 2개\n",
        "50원동전 :  1개\n",
        "10원동전 :  0개\n",
        "1원동전  :  0개\n",
        "'''\n",
        "\n",
        "# 방법1)\n",
        "money = int(input(\"금액을 입력하세용\"))\n",
        "temp = money\n",
        "\n",
        "print(\"500원의 동전갯수\", temp // 500 , \"개\")\n",
        "\n",
        "temp %= 500\n",
        "\n",
        "print(\"100원 동전의 갯수\", temp //100, \"개\")\n",
        "\n",
        "temp %= 100\n",
        "\n",
        "print(\"50원 동전의 갯수\", temp//50, '개')\n",
        "\n",
        "temp %= 50\n",
        "\n",
        "print(\"10원의 동전의 갯수\", temp//50, '개')\n",
        "\n",
        "temp %= 10\n",
        "\n",
        "print(\"1원 동전의 갯수:\",temp,\"개\")\n",
        "\n",
        "print()"
      ],
      "metadata": {
        "colab": {
          "base_uri": "https://localhost:8080/"
        },
        "id": "QIMFscx8_4_N",
        "outputId": "d81a076a-338c-4687-a6a6-0224f234a3f6"
      },
      "execution_count": 77,
      "outputs": [
        {
          "output_type": "stream",
          "name": "stdout",
          "text": [
            "금액을 입력하세용754\n",
            "500원의 동전갯수 1 개\n",
            "100원 동전의 갯수 2 개\n",
            "50원 동전의 갯수 1 개\n",
            "10원의 동전의 갯수 0 개\n",
            "1원 동전의 갯수: 4 개\n",
            "\n"
          ]
        }
      ]
    },
    {
      "cell_type": "code",
      "source": [
        "# 방법2\n",
        "\n",
        "temp = money\n",
        "\n",
        "for m in [500, 100, 50, 10, 1]:\n",
        "  print(\"%d원 동전의 갯수: %d\" % ( m , temp/m ), '개')\n",
        "  temp = temp % m"
      ],
      "metadata": {
        "colab": {
          "base_uri": "https://localhost:8080/"
        },
        "id": "q7H-MPXKd8za",
        "outputId": "f78db45d-7d37-4aaf-85b4-3c9fd2158ebe"
      },
      "execution_count": 79,
      "outputs": [
        {
          "output_type": "stream",
          "name": "stdout",
          "text": [
            "500원 동전의 갯수: 1 개\n",
            "100원 동전의 갯수: 2 개\n",
            "50원 동전의 갯수: 1 개\n",
            "10원 동전의 갯수: 0 개\n",
            "1원 동전의 갯수: 4 개\n"
          ]
        }
      ]
    }
  ]
}